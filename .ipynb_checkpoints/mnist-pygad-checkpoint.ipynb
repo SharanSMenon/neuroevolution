{
 "cells": [
  {
   "cell_type": "code",
   "execution_count": 5,
   "id": "a3b0da6d-84f0-4c74-92a1-dccd64f2e04b",
   "metadata": {},
   "outputs": [],
   "source": [
    "import torch\n",
    "import numpy as np\n",
    "import pygad\n",
    "import pygad.torchga\n",
    "import torchvision"
   ]
  },
  {
   "cell_type": "markdown",
   "id": "36f67bfb-3133-41dd-913f-14de59d1f847",
   "metadata": {},
   "source": [
    "Coming soon..."
   ]
  },
  {
   "cell_type": "code",
   "execution_count": null,
   "id": "661406ca-d5f2-4cc4-b8c6-033fe5568688",
   "metadata": {},
   "outputs": [],
   "source": []
  }
 ],
 "metadata": {
  "kernelspec": {
   "display_name": "Python 3 (ipykernel)",
   "language": "python",
   "name": "python3"
  },
  "language_info": {
   "codemirror_mode": {
    "name": "ipython",
    "version": 3
   },
   "file_extension": ".py",
   "mimetype": "text/x-python",
   "name": "python",
   "nbconvert_exporter": "python",
   "pygments_lexer": "ipython3",
   "version": "3.9.4"
  }
 },
 "nbformat": 4,
 "nbformat_minor": 5
}
