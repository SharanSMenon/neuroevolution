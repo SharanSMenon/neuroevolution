{
 "cells": [
  {
   "cell_type": "code",
   "execution_count": 1,
   "id": "2fb1f08f-9303-435c-a3b4-dcc8a424116f",
   "metadata": {},
   "outputs": [],
   "source": [
    "import torch\n",
    "import numpy as np"
   ]
  },
  {
   "cell_type": "code",
   "execution_count": 2,
   "id": "8686997f-652f-4a32-9b80-ce54dc76ccaa",
   "metadata": {},
   "outputs": [],
   "source": [
    "inputs = torch.tensor([[0.0, 0.0], [0.0, 1.0], [1.0, 0.0], [1.0, 1.0]])\n",
    "outputs = torch.tensor([0, 1, 1, 0], dtype=torch.float32).unsqueeze(1)"
   ]
  },
  {
   "cell_type": "code",
   "execution_count": 3,
   "id": "d2214391-0d81-4bd4-8cfb-234708a8dd39",
   "metadata": {},
   "outputs": [],
   "source": [
    "model = torch.nn.Sequential(\n",
    "    torch.nn.Linear(2, 4),\n",
    "    torch.nn.ReLU(),\n",
    "    torch.nn.Linear(4, 1),\n",
    "    torch.nn.Sigmoid()\n",
    ")"
   ]
  },
  {
   "cell_type": "code",
   "execution_count": 4,
   "id": "2b02c4cb-4cfc-4f14-bec5-5dfc2b955787",
   "metadata": {},
   "outputs": [
    {
     "data": {
      "text/plain": [
       "True"
      ]
     },
     "execution_count": 4,
     "metadata": {},
     "output_type": "execute_result"
    }
   ],
   "source": [
    "model(inputs).shape == outputs.shape"
   ]
  },
  {
   "cell_type": "code",
   "execution_count": 5,
   "id": "a7e73e8c-a1e3-4140-a0ef-9bba2a0685bc",
   "metadata": {},
   "outputs": [],
   "source": [
    "criterion = torch.nn.BCELoss()\n",
    "optimizer = torch.optim.SGD(model.parameters(), lr=0.01)"
   ]
  },
  {
   "cell_type": "code",
   "execution_count": 6,
   "id": "14855443-e76a-4a48-979d-7e0adabb22fe",
   "metadata": {
    "scrolled": true,
    "tags": []
   },
   "outputs": [
    {
     "name": "stdout",
     "output_type": "stream",
     "text": [
      "Epoch: 500, Loss: 0.693656861782074\n",
      "Epoch: 1000, Loss: 0.6921488046646118\n",
      "Epoch: 1500, Loss: 0.6796203851699829\n",
      "Epoch: 2000, Loss: 0.6548488140106201\n",
      "Epoch: 2500, Loss: 0.617019772529602\n",
      "Epoch: 3000, Loss: 0.5631982684135437\n",
      "Epoch: 3500, Loss: 0.4902299642562866\n",
      "Epoch: 4000, Loss: 0.38954904675483704\n",
      "Epoch: 4500, Loss: 0.28395023941993713\n",
      "Epoch: 5000, Loss: 0.20694059133529663\n"
     ]
    }
   ],
   "source": [
    "EPOCHS = 5000\n",
    "for epoch in range(1, EPOCHS + 1):\n",
    "    optimizer.zero_grad()\n",
    "    preds = model(inputs)\n",
    "    loss = criterion(preds, outputs)\n",
    "    loss.backward()\n",
    "    optimizer.step()\n",
    "    if epoch % 500 == 0:\n",
    "        print(f\"Epoch: {epoch}, Loss: {loss}\")"
   ]
  },
  {
   "cell_type": "code",
   "execution_count": 7,
   "id": "cf7d5edd-3a45-447f-ad22-692e97013859",
   "metadata": {},
   "outputs": [],
   "source": [
    "predictions = model(inputs)"
   ]
  },
  {
   "cell_type": "code",
   "execution_count": 43,
   "id": "188af86e-0b81-4ae9-b4e6-215279bc0956",
   "metadata": {},
   "outputs": [
    {
     "name": "stdout",
     "output_type": "stream",
     "text": [
      "Binary Crossentropy :  0.17561567\n"
     ]
    }
   ],
   "source": [
    "print(\"Binary Crossentropy : \", criterion(predictions, outputs).detach().numpy())"
   ]
  },
  {
   "cell_type": "code",
   "execution_count": 44,
   "id": "745f93d8-d218-4698-ba38-edf8540a773e",
   "metadata": {},
   "outputs": [
    {
     "name": "stdout",
     "output_type": "stream",
     "text": [
      "Accuracy: 100.0%\n"
     ]
    }
   ],
   "source": [
    "accuracy = np.mean((predictions > 0.5).numpy().astype(float) == outputs.numpy()) * 100\n",
    "print(f\"Accuracy: {accuracy}%\")"
   ]
  },
  {
   "cell_type": "code",
   "execution_count": 46,
   "id": "c533e28e-3c70-4e49-9059-6aae2a42a95f",
   "metadata": {},
   "outputs": [
    {
     "ename": "NameError",
     "evalue": "name 'pygad' is not defined",
     "output_type": "error",
     "traceback": [
      "\u001b[0;31m---------------------------------------------------------------------------\u001b[0m",
      "\u001b[0;31mNameError\u001b[0m                                 Traceback (most recent call last)",
      "\u001b[0;32m/var/folders/vr/x7p4fznn1dv39r_83dmyjkjm0000gn/T/ipykernel_8014/596661020.py\u001b[0m in \u001b[0;36m<module>\u001b[0;34m\u001b[0m\n\u001b[0;32m----> 1\u001b[0;31m \u001b[0mpygad\u001b[0m\u001b[0;34m\u001b[0m\u001b[0;34m\u001b[0m\u001b[0m\n\u001b[0m",
      "\u001b[0;31mNameError\u001b[0m: name 'pygad' is not defined"
     ]
    }
   ],
   "source": [
    "pygad"
   ]
  },
  {
   "cell_type": "code",
   "execution_count": null,
   "id": "1fec4b37-7df5-4829-81ba-1f26fdc1a7ce",
   "metadata": {},
   "outputs": [],
   "source": []
  }
 ],
 "metadata": {
  "kernelspec": {
   "display_name": "Python 3 (ipykernel)",
   "language": "python",
   "name": "python3"
  },
  "language_info": {
   "codemirror_mode": {
    "name": "ipython",
    "version": 3
   },
   "file_extension": ".py",
   "mimetype": "text/x-python",
   "name": "python",
   "nbconvert_exporter": "python",
   "pygments_lexer": "ipython3",
   "version": "3.9.4"
  }
 },
 "nbformat": 4,
 "nbformat_minor": 5
}
