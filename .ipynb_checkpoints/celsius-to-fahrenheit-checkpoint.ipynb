{
 "cells": [
  {
   "cell_type": "code",
   "execution_count": 1,
   "id": "577abc25-64b5-4423-8c1a-fe59f4454da8",
   "metadata": {},
   "outputs": [],
   "source": [
    "import numpy as np"
   ]
  },
  {
   "cell_type": "markdown",
   "id": "b7b21775-dffb-43d0-bde9-eb0f6b79d512",
   "metadata": {},
   "source": [
    "$$\n",
    "y = w_1x + w_2\n",
    "$$\n",
    "\n",
    "Find $w_1$ and $w_2$"
   ]
  },
  {
   "cell_type": "code",
   "execution_count": 103,
   "id": "6bee4fb8-aa0f-494e-8d65-8982a09f6415",
   "metadata": {},
   "outputs": [],
   "source": [
    "class Linear():\n",
    "    def __init__(self, n_in, n_out, name=\"layer\"):\n",
    "        limit = 1 / np.sqrt(n_in)\n",
    "        self.W = np.random.uniform(-limit, limit, (n_in, n_out))\n",
    "        self.b = np.random.rand(1, n_out)  # Biases\n",
    "        self.n_in = n_in\n",
    "        self.n_out = n_out\n",
    "\n",
    "    def forward(self, x):\n",
    "        return np.dot(x, self.W) + self.b\n",
    "    \n",
    "    def apply_weights(self, w):\n",
    "        self.W = np.array(w[0]).reshape(-1, 1)\n",
    "        self.b = np.array(w[1]).reshape(-1, 1)\n",
    "        \n",
    "    def __call__(self, x):\n",
    "        return self.forward(x)\n",
    "\n",
    "    def __repr__(self) -> str:\n",
    "        return f\"({self.name}): Linear({self.n_in} -> {self.n_out})\""
   ]
  },
  {
   "cell_type": "code",
   "execution_count": 80,
   "id": "5a4438c3-b22a-40a8-a666-df5bc95294d0",
   "metadata": {},
   "outputs": [],
   "source": [
    "x_train = np.array([-40, -10, 0, 8, 15, 22, 38], dtype=np.float32)  # Celsius\n",
    "y_train = np.array([-40, 14, 32, 46, 59, 72, 100], dtype=np.float32)  # Fahrenheit\n",
    "x_train = x_train.reshape(-1, 1)\n",
    "y_train = y_train.reshape(-1, 1)"
   ]
  },
  {
   "cell_type": "code",
   "execution_count": 134,
   "id": "a0c26e42-7d38-4ea8-8749-628beb36bab5",
   "metadata": {},
   "outputs": [],
   "source": [
    "NUM_PARENTS = 5"
   ]
  },
  {
   "cell_type": "code",
   "execution_count": 107,
   "id": "6dc57751-23a5-4a01-a26e-f143d6bbd166",
   "metadata": {},
   "outputs": [],
   "source": [
    "model = Linear(1, 1)"
   ]
  },
  {
   "cell_type": "code",
   "execution_count": 81,
   "id": "e7fd45dd-de05-45a4-abf1-9cf00da57bdb",
   "metadata": {},
   "outputs": [],
   "source": [
    "sample_weights = np.array([9/5, 32])"
   ]
  },
  {
   "cell_type": "code",
   "execution_count": 105,
   "id": "46ec038c-9155-4f67-b0db-fbee0585ea53",
   "metadata": {},
   "outputs": [],
   "source": [
    "def loss(y_true, y_pred):\n",
    "    return 1/np.mean(np.power(y_true - y_pred, 2));"
   ]
  },
  {
   "cell_type": "code",
   "execution_count": 106,
   "id": "d3ec8aff-6412-4b9c-9920-c0ed5de91fc2",
   "metadata": {},
   "outputs": [
    {
     "data": {
      "text/plain": [
       "0.00017971317931235486"
      ]
     },
     "execution_count": 106,
     "metadata": {},
     "output_type": "execute_result"
    }
   ],
   "source": [
    "loss(model(x_train), y_train)"
   ]
  },
  {
   "cell_type": "code",
   "execution_count": 115,
   "id": "53202e65-6576-44eb-806f-56b3e8434cc8",
   "metadata": {},
   "outputs": [],
   "source": [
    "def fitness_func(solution):\n",
    "    model.apply_weights(solution)\n",
    "    return loss(model(x_train), y_train)"
   ]
  },
  {
   "cell_type": "code",
   "execution_count": 119,
   "id": "00ec196d-585a-4c72-b43f-59e0dce392d4",
   "metadata": {},
   "outputs": [],
   "source": [
    "def calc_population_fitness(pop):\n",
    "    fitness = np.zeros(pop.shape[0])\n",
    "    for i, params in enumerate(pop):\n",
    "        fitness[i] = fitness_func(params)\n",
    "    return fitness"
   ]
  },
  {
   "cell_type": "code",
   "execution_count": 131,
   "id": "2eef0c4b-d030-4919-8e62-4a5b33d3ae54",
   "metadata": {},
   "outputs": [],
   "source": [
    "def select_best_parents(pop, num_parents, fitness):\n",
    "    parents = np.zeros((num_parents, 2))\n",
    "    topk_fitness =  np.argsort(fitness)[-num_parents:]\n",
    "    for parent_n in range(num_parents):\n",
    "        solution = pop[topk_fitness[parent_n]]\n",
    "        parents[parent_n] = solution\n",
    "    return parents"
   ]
  },
  {
   "cell_type": "code",
   "execution_count": 141,
   "id": "88418ff2-882c-44bf-ad9b-ec2a7c8ae939",
   "metadata": {},
   "outputs": [],
   "source": [
    "def crossover(parents, offspring_size):\n",
    "    offspring = np.zeros(offspring_size)\n",
    "    crossover_point = np.uint8(offspring_size[1]/2)\n",
    "    for k in range(offspring_size[0]):\n",
    "        parent1_idx = k%parents.shape[0]\n",
    "        parent2_idx = (k+1)%parents.shape[0]\n",
    "        offspring[k, 0:crossover_point] = parents[parent1_idx, 0:crossover_point]\n",
    "        offspring[k, crossover_point:] = parents[parent2_idx, crossover_point:]\n",
    "    return offspring"
   ]
  },
  {
   "cell_type": "code",
   "execution_count": 153,
   "id": "3f308ed7-1018-4333-802c-31276c8ab863",
   "metadata": {},
   "outputs": [],
   "source": [
    "initial_population = np.random.randint(-10, 10, size=[100, 2])"
   ]
  },
  {
   "cell_type": "code",
   "execution_count": 158,
   "id": "f4683845-dfd5-4cd1-9a7d-1ea9c543a2a3",
   "metadata": {},
   "outputs": [],
   "source": [
    "num_generations = 100"
   ]
  },
  {
   "cell_type": "code",
   "execution_count": 163,
   "id": "d83870c5-79ef-43b9-b3c3-970ab1b81bfe",
   "metadata": {},
   "outputs": [
    {
     "name": "stdout",
     "output_type": "stream",
     "text": [
      "Generation: 0, Best Solution: [1. 3.], Loss: 0.0007080004045716598\n",
      "Generation: 10, Best Solution: [ 2.         16.95322013], Loss: 0.004559713501216506\n",
      "Generation: 20, Best Solution: [ 2.         26.00046404], Loss: 0.02127869651248688\n",
      "Generation: 30, Best Solution: [ 1.8255904  31.80650243], Loss: 2.1103807655713647\n",
      "Generation: 40, Best Solution: [ 1.79388909 31.94264213], Loss: 13.746499545130245\n",
      "Generation: 50, Best Solution: [ 1.79388909 31.97053702], Loss: 13.907296984050236\n",
      "Generation: 60, Best Solution: [ 1.7952632  31.96946053], Loss: 14.93859655337971\n",
      "Generation: 70, Best Solution: [ 1.79975261 31.96682741], Loss: 15.310707914163148\n",
      "Generation: 80, Best Solution: [ 1.79913972 31.95829049], Loss: 15.640362892223406\n",
      "Generation: 90, Best Solution: [ 1.79913972 31.95141071], Loss: 15.667126535766448\n"
     ]
    }
   ],
   "source": [
    "population = initial_population\n",
    "for generation in range(num_generations):\n",
    "    fitness = calc_population_fitness(population)\n",
    "    best_parents = select_best_parents(population, 5, fitness)\n",
    "    offspring = crossover(best_parents, (initial_population.shape[0] - best_parents.shape[0], initial_population.shape[1]))\n",
    "    mutate(offspring)\n",
    "    population = np.zeros(initial_population.shape)\n",
    "    population[0:best_parents.shape[0]] = best_parents\n",
    "    population[best_parents.shape[0]:] = offspring\n",
    "    if generation % 10 == 0:\n",
    "        print(f\"Generation: {generation}, Best Solution: {best_parents[0]}, Loss: {fitness_func(best_parents[0])}\")"
   ]
  },
  {
   "cell_type": "code",
   "execution_count": null,
   "id": "9fbb46c1-30b2-49e0-90d3-fe53ca99a27a",
   "metadata": {},
   "outputs": [],
   "source": []
  }
 ],
 "metadata": {
  "kernelspec": {
   "display_name": "Python 3 (ipykernel)",
   "language": "python",
   "name": "python3"
  },
  "language_info": {
   "codemirror_mode": {
    "name": "ipython",
    "version": 3
   },
   "file_extension": ".py",
   "mimetype": "text/x-python",
   "name": "python",
   "nbconvert_exporter": "python",
   "pygments_lexer": "ipython3",
   "version": "3.9.4"
  }
 },
 "nbformat": 4,
 "nbformat_minor": 5
}
