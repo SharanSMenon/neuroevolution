{
 "cells": [
  {
   "cell_type": "markdown",
   "id": "e6cc6624-dac2-4ff0-a708-cff0e1517e4c",
   "metadata": {},
   "source": [
    "# Cartpole Neuroevolution"
   ]
  },
  {
   "cell_type": "markdown",
   "id": "9f20cd8b-6f26-4cc9-b761-5a741c9d028c",
   "metadata": {},
   "source": [
    "This tutorial uses a evolution to train a neural network to solve the CartPole-v1 environment in OpenAI gym"
   ]
  },
  {
   "cell_type": "code",
   "execution_count": 2,
   "id": "963dc6da-834b-44e7-aab9-c900e59c9476",
   "metadata": {},
   "outputs": [],
   "source": [
    "import gym\n",
    "import numpy as np\n",
    "from itertools import count\n",
    "from collections import namedtuple"
   ]
  },
  {
   "cell_type": "code",
   "execution_count": 3,
   "id": "4bef689a-f5f9-404c-8e3c-18579d492379",
   "metadata": {},
   "outputs": [],
   "source": [
    "import torch\n",
    "import torch.nn as nn\n",
    "import torch.nn.functional as F\n",
    "import torch.optim as optim\n",
    "from torch.distributions import Categorical"
   ]
  },
  {
   "cell_type": "code",
   "execution_count": 4,
   "id": "e2a66d90-56ab-4e39-ad5c-7aef109356a1",
   "metadata": {},
   "outputs": [],
   "source": [
    "import pygad\n",
    "import pygad.torchga"
   ]
  },
  {
   "cell_type": "markdown",
   "id": "0b502361-da7c-4590-963e-22b385190ec6",
   "metadata": {},
   "source": [
    "## Initialize the environment\n",
    "\n",
    "We have 4 variables in our observation and 2 actions in this problem"
   ]
  },
  {
   "cell_type": "code",
   "execution_count": 18,
   "id": "39349574-f2a3-4e25-8a8d-8e822a30f8f9",
   "metadata": {},
   "outputs": [],
   "source": [
    "env = gym.make('CartPole-v1')"
   ]
  },
  {
   "cell_type": "code",
   "execution_count": 19,
   "id": "b2bc98a1-c4a3-4f0e-b38a-5555a9cc7a37",
   "metadata": {},
   "outputs": [
    {
     "data": {
      "text/plain": [
       "(Box([-4.8000002e+00 -3.4028235e+38 -4.1887903e-01 -3.4028235e+38], [4.8000002e+00 3.4028235e+38 4.1887903e-01 3.4028235e+38], (4,), float32),\n",
       " Discrete(2))"
      ]
     },
     "execution_count": 19,
     "metadata": {},
     "output_type": "execute_result"
    }
   ],
   "source": [
    "env.observation_space, env.action_space"
   ]
  },
  {
   "cell_type": "markdown",
   "id": "3b54ebcd-65c7-4e18-8784-1eac01dc171a",
   "metadata": {},
   "source": [
    "## Neural Network\n",
    "\n",
    "A simple neural network. This is sufficient to solve the problem."
   ]
  },
  {
   "cell_type": "code",
   "execution_count": 20,
   "id": "a3c224bc-e225-40f0-811c-1df7288c9e85",
   "metadata": {},
   "outputs": [],
   "source": [
    "class NeuralNetwork(nn.Module):\n",
    "    def __init__(self, n_in, n_out):\n",
    "        super(NeuralNetwork, self).__init__()\n",
    "        \n",
    "        self.linear1 = nn.Linear(n_in, 16)\n",
    "        self.linear2 = nn.Linear(16, 32)\n",
    "        self.linear3 = nn.Linear(32, n_out)\n",
    "        self.relu = nn.ReLU()\n",
    "        self.softmax = nn.Softmax(dim=0)\n",
    "        \n",
    "    def forward(self, x):\n",
    "        x = self.relu(self.linear1(x))\n",
    "        x = self.relu(self.linear2(x))\n",
    "        x = self.linear3(x)\n",
    "        return self.softmax(x)"
   ]
  },
  {
   "cell_type": "code",
   "execution_count": 21,
   "id": "93ebd9a5-9c07-4591-81fc-34e1dcffcb11",
   "metadata": {},
   "outputs": [],
   "source": [
    "model = NeuralNetwork(env.observation_space.shape[0], env.action_space.n)\n",
    "model = model.float() # Otherwise it will complain saying that it expects \"Double\" but got \"Float\""
   ]
  },
  {
   "cell_type": "markdown",
   "id": "c04087ff-db14-4ee5-82b9-e954cc492824",
   "metadata": {},
   "source": [
    "This `select_action` function is a simple function that just processes the output of the network and picks the action. It suffices for the problem. For a more complex problem, you should add something like epsilon-greedy exploration, so that the model doesnt just converge on a local optimum"
   ]
  },
  {
   "cell_type": "code",
   "execution_count": 22,
   "id": "d57b6f03-f532-439c-bddd-c18e60c89657",
   "metadata": {},
   "outputs": [],
   "source": [
    "def select_action(model, state): # A more complicated select_action function will also add some exploration\n",
    "    outputs = model(torch.FloatTensor(state))\n",
    "    return torch.argmax(outputs).item()"
   ]
  },
  {
   "cell_type": "code",
   "execution_count": 24,
   "id": "6d98284b-9e8a-4af1-8550-5fd25b7c781e",
   "metadata": {},
   "outputs": [],
   "source": [
    "rewards = []"
   ]
  },
  {
   "cell_type": "markdown",
   "id": "2772f762-9612-4d3a-bd65-e47bbca21944",
   "metadata": {},
   "source": [
    "## Fitness Function\n",
    "\n",
    "Here is our fitness function. Note the fitness function runs an 1 episode of Cartpole and returns the reward of that. Our fitness value will be the reward. Our goal is to get the running reward to 195."
   ]
  },
  {
   "cell_type": "code",
   "execution_count": 25,
   "id": "acbc5f63-0946-4831-9ba2-2eb9231da0d8",
   "metadata": {},
   "outputs": [],
   "source": [
    "def fitness_func(solution, sol_idx):\n",
    "    model.load_state_dict(pygad.torchga.model_weights_as_dict(model, solution))\n",
    "    \n",
    "    episode_reward = 0\n",
    "    state = env.reset()\n",
    "    for i in range(10000):\n",
    "        action = select_action(model, state)\n",
    "        state, reward, done, _ = env.step(action)\n",
    "        episode_reward += reward\n",
    "        if done: \n",
    "            break\n",
    "            \n",
    "    rewards.append(episode_reward)\n",
    "    return episode_reward"
   ]
  },
  {
   "cell_type": "markdown",
   "id": "bca85c99-eb4a-40e8-bbca-0eb86b620ef7",
   "metadata": {},
   "source": [
    "We stop the GA if the running reward reaches 195 or higher"
   ]
  },
  {
   "cell_type": "code",
   "execution_count": 26,
   "id": "a845a2e2-597f-4c94-b740-ff4dd5ada742",
   "metadata": {},
   "outputs": [],
   "source": [
    "def generation_callback(instance):\n",
    "    print(f\"Generation: {instance.generations_completed}\")\n",
    "    print(f\"Fitness: {instance.best_solution()[1]}\")\n",
    "    print(f\"Running Reward: {np.mean(rewards[-20:])}\")\n",
    "    if np.mean(rewards[-20:]) > env.spec.reward_threshold:\n",
    "        return \"stop\""
   ]
  },
  {
   "cell_type": "markdown",
   "id": "d4db381a-d22c-4edb-b584-82a84917a059",
   "metadata": {},
   "source": [
    "## Train the model\n",
    "\n",
    "Initialize the model with 10 solutions (i.e 10 neural networks)"
   ]
  },
  {
   "cell_type": "code",
   "execution_count": 27,
   "id": "13a292bb-5b01-4b49-ae33-7171490ec135",
   "metadata": {},
   "outputs": [],
   "source": [
    "gamodel = pygad.torchga.TorchGA(model, 10)"
   ]
  },
  {
   "cell_type": "markdown",
   "id": "51cba5d6-4a37-476f-b34b-5a945f87c0ea",
   "metadata": {},
   "source": [
    "We will run for 250 generations, our mating pool will consist of the 5 best networks (or half the population)"
   ]
  },
  {
   "cell_type": "code",
   "execution_count": 28,
   "id": "dfc0ac51-a5dd-4c4a-a9bf-e47594a01cdb",
   "metadata": {},
   "outputs": [],
   "source": [
    "num_generations = 250\n",
    "num_parents_mating = 5\n",
    "initial_population = gamodel.population_weights"
   ]
  },
  {
   "cell_type": "markdown",
   "id": "182876bb-d521-4495-afae-f0e47b94b8c9",
   "metadata": {},
   "source": [
    "Create the GA instance. In this, we decide to mutate only 15% of each offspring's parameters."
   ]
  },
  {
   "cell_type": "code",
   "execution_count": 29,
   "id": "a059e385-859f-412d-a63e-bc85dcc03465",
   "metadata": {},
   "outputs": [],
   "source": [
    "ga_instance = pygad.GA(num_generations=num_generations, num_parents_mating=num_parents_mating, \n",
    "                      fitness_func = fitness_func, initial_population=gamodel.population_weights, \n",
    "                      on_generation=generation_callback, mutation_percent_genes=15)"
   ]
  },
  {
   "cell_type": "markdown",
   "id": "b973ed25-5edb-466d-b5b7-3f0ca1022ca9",
   "metadata": {},
   "source": [
    "Our genetic algorithm solves the problem within 50 generations."
   ]
  },
  {
   "cell_type": "code",
   "execution_count": 30,
   "id": "d62b5c30-596d-4f71-8a9c-41100e28b34d",
   "metadata": {
    "scrolled": true,
    "tags": []
   },
   "outputs": [
    {
     "name": "stdout",
     "output_type": "stream",
     "text": [
      "Generation: 1\n",
      "Fitness: 74.0\n",
      "Running Reward: 19.5\n",
      "Generation: 2\n",
      "Fitness: 124.0\n",
      "Running Reward: 33.35\n",
      "Generation: 3\n",
      "Fitness: 82.0\n",
      "Running Reward: 20.5\n",
      "Generation: 4\n",
      "Fitness: 140.0\n",
      "Running Reward: 35.3\n",
      "Generation: 5\n",
      "Fitness: 455.0\n",
      "Running Reward: 64.2\n",
      "Generation: 6\n",
      "Fitness: 180.0\n",
      "Running Reward: 48.45\n",
      "Generation: 7\n",
      "Fitness: 197.0\n",
      "Running Reward: 62.05\n",
      "Generation: 8\n",
      "Fitness: 500.0\n",
      "Running Reward: 81.6\n",
      "Generation: 9\n",
      "Fitness: 500.0\n",
      "Running Reward: 166.2\n",
      "Generation: 10\n",
      "Fitness: 500.0\n",
      "Running Reward: 133.35\n",
      "Generation: 11\n",
      "Fitness: 500.0\n",
      "Running Reward: 190.6\n",
      "Generation: 12\n",
      "Fitness: 500.0\n",
      "Running Reward: 172.5\n",
      "Generation: 13\n",
      "Fitness: 500.0\n",
      "Running Reward: 175.15\n",
      "Generation: 14\n",
      "Fitness: 500.0\n",
      "Running Reward: 232.05\n",
      "Generation: 15\n",
      "Fitness: 500.0\n",
      "Running Reward: 155.75\n",
      "Generation: 16\n",
      "Fitness: 500.0\n",
      "Running Reward: 221.95\n",
      "Generation: 17\n",
      "Fitness: 500.0\n",
      "Running Reward: 228.25\n",
      "Generation: 18\n",
      "Fitness: 500.0\n",
      "Running Reward: 251.7\n",
      "Generation: 19\n",
      "Fitness: 500.0\n",
      "Running Reward: 206.45\n",
      "Generation: 20\n",
      "Fitness: 500.0\n",
      "Running Reward: 270.85\n",
      "Generation: 21\n",
      "Fitness: 500.0\n",
      "Running Reward: 158.35\n",
      "Generation: 22\n",
      "Fitness: 500.0\n",
      "Running Reward: 239.9\n",
      "Generation: 23\n",
      "Fitness: 500.0\n",
      "Running Reward: 227.6\n",
      "Generation: 24\n",
      "Fitness: 500.0\n",
      "Running Reward: 208.9\n",
      "Generation: 25\n",
      "Fitness: 500.0\n",
      "Running Reward: 326.5\n",
      "Generation: 26\n",
      "Fitness: 500.0\n",
      "Running Reward: 274.35\n",
      "Generation: 27\n",
      "Fitness: 500.0\n",
      "Running Reward: 246.5\n",
      "Generation: 28\n",
      "Fitness: 500.0\n",
      "Running Reward: 304.55\n",
      "Generation: 29\n",
      "Fitness: 500.0\n",
      "Running Reward: 374.1\n",
      "Generation: 30\n",
      "Fitness: 500.0\n",
      "Running Reward: 295.4\n",
      "Generation: 31\n",
      "Fitness: 500.0\n",
      "Running Reward: 252.7\n",
      "Generation: 32\n",
      "Fitness: 500.0\n",
      "Running Reward: 349.0\n",
      "Generation: 33\n",
      "Fitness: 500.0\n",
      "Running Reward: 302.9\n",
      "Generation: 34\n",
      "Fitness: 500.0\n",
      "Running Reward: 363.1\n",
      "Generation: 35\n",
      "Fitness: 500.0\n",
      "Running Reward: 256.35\n",
      "Generation: 36\n",
      "Fitness: 500.0\n",
      "Running Reward: 361.65\n",
      "Generation: 37\n",
      "Fitness: 500.0\n",
      "Running Reward: 276.4\n",
      "Generation: 38\n",
      "Fitness: 500.0\n",
      "Running Reward: 235.45\n",
      "Generation: 39\n",
      "Fitness: 500.0\n",
      "Running Reward: 396.1\n",
      "Generation: 40\n",
      "Fitness: 500.0\n",
      "Running Reward: 409.95\n",
      "Generation: 41\n",
      "Fitness: 500.0\n",
      "Running Reward: 407.9\n",
      "Generation: 42\n",
      "Fitness: 500.0\n",
      "Running Reward: 459.05\n",
      "Generation: 43\n",
      "Fitness: 500.0\n",
      "Running Reward: 374.95\n",
      "Generation: 44\n",
      "Fitness: 500.0\n",
      "Running Reward: 401.75\n",
      "Generation: 45\n",
      "Fitness: 500.0\n",
      "Running Reward: 410.8\n",
      "Generation: 46\n",
      "Fitness: 500.0\n",
      "Running Reward: 359.7\n",
      "Generation: 47\n",
      "Fitness: 500.0\n",
      "Running Reward: 366.65\n",
      "Generation: 48\n",
      "Fitness: 500.0\n",
      "Running Reward: 277.4\n",
      "Generation: 49\n",
      "Fitness: 500.0\n",
      "Running Reward: 419.6\n",
      "Generation: 50\n",
      "Fitness: 500.0\n",
      "Running Reward: 500.0\n"
     ]
    }
   ],
   "source": [
    "ga_instance.run()"
   ]
  },
  {
   "cell_type": "code",
   "execution_count": 31,
   "id": "7fd8b342-a96b-45a3-9bee-b545ffb464ef",
   "metadata": {},
   "outputs": [
    {
     "data": {
      "image/png": "[encoded data removed]",
      "text/plain": [
       "<Figure size 432x288 with 1 Axes>"
      ]
     },
     "metadata": {
      "needs_background": "light"
     },
     "output_type": "display_data"
    },
    {
     "data": {
      "image/png": "[encoded data removed]",
      "text/plain": [
       "<Figure size 432x288 with 1 Axes>"
      ]
     },
     "execution_count": 31,
     "metadata": {},
     "output_type": "execute_result"
    }
   ],
   "source": [
    "ga_instance.plot_fitness(title=\"Iteration vs. Fitness\", linewidth=4)"
   ]
  },
  {
   "cell_type": "markdown",
   "id": "84389fb4-0dda-4d74-a132-3ea3b05dae0b",
   "metadata": {},
   "source": [
    "Our genetic algorithm learned to solve the problem around generation 10, and the running reward hit 500 at generation 50"
   ]
  },
  {
   "cell_type": "markdown",
   "id": "3b5d6feb-bb4b-4a98-bea3-6ecd7cda7d5e",
   "metadata": {},
   "source": [
    "## Test the model"
   ]
  },
  {
   "cell_type": "markdown",
   "id": "805ab804-b67b-4cfc-b26e-c03a31c3f532",
   "metadata": {},
   "source": [
    "**Make sure to always load in the best solution**"
   ]
  },
  {
   "cell_type": "code",
   "execution_count": 32,
   "id": "d552dd9d-0127-4a96-b1f7-7848d8cf220b",
   "metadata": {},
   "outputs": [
    {
     "data": {
      "text/plain": [
       "<All keys matched successfully>"
      ]
     },
     "execution_count": 32,
     "metadata": {},
     "output_type": "execute_result"
    }
   ],
   "source": [
    "solution, solution_fitness, solution_idx = ga_instance.best_solution()\n",
    "model.load_state_dict(pygad.torchga.model_weights_as_dict(model, solution))"
   ]
  },
  {
   "cell_type": "markdown",
   "id": "623d25c9-1e0a-49b8-8ffb-8ea5f63a4ff0",
   "metadata": {},
   "source": [
    "This solution manages to solve the problem"
   ]
  },
  {
   "cell_type": "code",
   "execution_count": 33,
   "id": "e6a156c1-c4f0-40f6-ac96-c3e27673aaef",
   "metadata": {},
   "outputs": [
    {
     "name": "stdout",
     "output_type": "stream",
     "text": [
      "Fitness value of the best solution = 500.0\n",
      "Index of the best solution : 0\n"
     ]
    }
   ],
   "source": [
    "print(\"Fitness value of the best solution = {solution_fitness}\".format(solution_fitness=solution_fitness))\n",
    "print(\"Index of the best solution : {solution_idx}\".format(solution_idx=solution_idx))"
   ]
  },
  {
   "cell_type": "markdown",
   "id": "1c3f7173-aa74-44ed-af5f-39690115b884",
   "metadata": {},
   "source": [
    "To run this, you need to have `ffmpeg` and `pyglet` installed. If you dont want to save a video of your environment, just comment the line that redefines `env`\n",
    "\n",
    "You can install `ffmpeg` through the command `brew install ffmpeg` (*on macOS*). For pyglet, you can just use `pip3 install pyglet`"
   ]
  },
  {
   "cell_type": "code",
   "execution_count": 34,
   "id": "900d887f-64fb-4959-93f1-e928bedb1fc1",
   "metadata": {},
   "outputs": [],
   "source": [
    "from gym import wrappers\n",
    "env = wrappers.Monitor(env, 'cartpole-v1', force=True) # Comment out this line if you dont need a video"
   ]
  },
  {
   "cell_type": "code",
   "execution_count": 35,
   "id": "53b77fff-197c-40b7-abf2-40e332e21bff",
   "metadata": {},
   "outputs": [],
   "source": [
    "episode_reward = 0\n",
    "state = env.reset()\n",
    "for i in range(10000):\n",
    "    action = select_action(model, state)\n",
    "    state, reward, done, _ = env.step(action)\n",
    "    episode_reward += reward\n",
    "    if done: \n",
    "        break\n",
    "env.close()"
   ]
  },
  {
   "cell_type": "markdown",
   "id": "873405b5-b63d-4a64-bac2-3c5614777fb5",
   "metadata": {},
   "source": [
    "You can see here that the cartpole ran the full expected duration"
   ]
  },
  {
   "cell_type": "code",
   "execution_count": 36,
   "id": "ac6293e9-6d63-40e3-a5bc-dcd85a847d5e",
   "metadata": {},
   "outputs": [
    {
     "data": {
      "text/plain": [
       "500.0"
      ]
     },
     "execution_count": 36,
     "metadata": {},
     "output_type": "execute_result"
    }
   ],
   "source": [
    "episode_reward"
   ]
  },
  {
   "cell_type": "markdown",
   "id": "9eef6d69-d368-49c0-883c-63909fc7cc14",
   "metadata": {},
   "source": [
    "Thanks for reading this tutorial. See you in the next one"
   ]
  }
 ],
 "metadata": {
  "kernelspec": {
   "display_name": "Python 3 (ipykernel)",
   "language": "python",
   "name": "python3"
  },
  "language_info": {
   "codemirror_mode": {
    "name": "ipython",
    "version": 3
   },
   "file_extension": ".py",
   "mimetype": "text/x-python",
   "name": "python",
   "nbconvert_exporter": "python",
   "pygments_lexer": "ipython3",
   "version": "3.9.4"
  }
 },
 "nbformat": 4,
 "nbformat_minor": 5
}
