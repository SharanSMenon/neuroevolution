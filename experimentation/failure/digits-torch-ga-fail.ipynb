{
 "cells": [
  {
   "cell_type": "markdown",
   "id": "a0ca68f1-7d07-4f36-8766-86a2966b0eed",
   "metadata": {},
   "source": [
    "# [Failure] Digits with Evolution"
   ]
  },
  {
   "cell_type": "code",
   "execution_count": 27,
   "id": "eece1eea-6135-402d-bee5-23abe9aa599e",
   "metadata": {},
   "outputs": [],
   "source": [
    "import torch\n",
    "import numpy as np\n",
    "import sklearn\n",
    "from sklearn.datasets import load_digits\n",
    "import sklearn.model_selection"
   ]
  },
  {
   "cell_type": "code",
   "execution_count": 2,
   "id": "517bc7cc-61b4-4079-8b9c-5f4c6d29dac9",
   "metadata": {},
   "outputs": [],
   "source": [
    "digits = load_digits()"
   ]
  },
  {
   "cell_type": "code",
   "execution_count": 3,
   "id": "ce9b8f99-bc9c-4f72-ba0d-db2379d9ad44",
   "metadata": {},
   "outputs": [],
   "source": [
    "data = digits['data']\n",
    "targets = digits['target']\n",
    "X_train, X_test, y_train, y_test = sklearn.model_selection.train_test_split(data, targets, test_size=0.28)"
   ]
  },
  {
   "cell_type": "code",
   "execution_count": 4,
   "id": "5b718337-194c-4609-aad4-77a4a7856432",
   "metadata": {},
   "outputs": [],
   "source": [
    "X_train, X_test, y_train, y_test = torch.FloatTensor(X_train), torch.FloatTensor(X_test), torch.LongTensor(y_train), torch.LongTensor(y_test)"
   ]
  },
  {
   "cell_type": "code",
   "execution_count": 5,
   "id": "92c11689-409e-45b8-a311-580c4a679c44",
   "metadata": {},
   "outputs": [
    {
     "data": {
      "text/plain": [
       "(torch.Size([1293, 64]),\n",
       " torch.Size([504, 64]),\n",
       " torch.Size([1293]),\n",
       " torch.Size([504]))"
      ]
     },
     "execution_count": 5,
     "metadata": {},
     "output_type": "execute_result"
    }
   ],
   "source": [
    "X_train.shape, X_test.shape, y_train.shape, y_test.shape"
   ]
  },
  {
   "cell_type": "code",
   "execution_count": 6,
   "id": "67a00069-8b4e-478b-a5bf-6dfa2a9612bf",
   "metadata": {},
   "outputs": [],
   "source": [
    "from torch import nn\n",
    "import torch.nn.functional as F"
   ]
  },
  {
   "cell_type": "code",
   "execution_count": 7,
   "id": "fa3ec442-07ec-4d8d-a4ba-5aebfe35c16e",
   "metadata": {},
   "outputs": [],
   "source": [
    "class Classifier(nn.Module):\n",
    "    def __init__(self):\n",
    "        super().__init__()\n",
    "        self.fc1 = nn.Linear(64, 128)\n",
    "        self.fc2 = nn.Linear(128, 256)\n",
    "        self.fc3 = nn.Linear(256, 64)\n",
    "        self.fc4 = nn.Linear(64, 10)\n",
    "        \n",
    "    def forward(self, x):\n",
    "        \n",
    "        x = F.relu(self.fc1(x))\n",
    "        x = F.relu(self.fc2(x))\n",
    "        x = F.relu(self.fc3(x))\n",
    "        x = F.softmax(self.fc4(x), dim=1)\n",
    "        \n",
    "        return x"
   ]
  },
  {
   "cell_type": "code",
   "execution_count": 33,
   "id": "80863f43-618d-4c43-92ca-4edfc147b910",
   "metadata": {},
   "outputs": [],
   "source": [
    "model = Classifier()"
   ]
  },
  {
   "cell_type": "code",
   "execution_count": 34,
   "id": "6b6915e4-03d0-4dc6-9e2d-5c1e27e3f190",
   "metadata": {},
   "outputs": [],
   "source": [
    "criterion = torch.nn.CrossEntropyLoss()"
   ]
  },
  {
   "cell_type": "code",
   "execution_count": 35,
   "id": "6c8d185e-27d5-45d7-8129-cf64a483c70f",
   "metadata": {},
   "outputs": [],
   "source": [
    "def loss(y_pred, y_true):\n",
    "    return 1/criterion(y_pred, y_true)"
   ]
  },
  {
   "cell_type": "code",
   "execution_count": 36,
   "id": "3de5d6f4-0766-4c03-bd41-15aa53278d6b",
   "metadata": {},
   "outputs": [],
   "source": [
    "def fitness_func(solution):\n",
    "    nn.utils.vector_to_parameters(solution, model.parameters())\n",
    "    return loss(model(X_train), y_train) + 0.00000001"
   ]
  },
  {
   "cell_type": "code",
   "execution_count": 37,
   "id": "5159dcaf-ac4d-4f2d-835f-dbd91692d2b9",
   "metadata": {},
   "outputs": [],
   "source": [
    "def calc_population_fitness(pop):\n",
    "    fitness = torch.zeros(pop.shape[0])\n",
    "    for i, state_dict in enumerate(pop):\n",
    "        fitness[i] = fitness_func(state_dict)\n",
    "    return fitness"
   ]
  },
  {
   "cell_type": "code",
   "execution_count": 38,
   "id": "3b6958ec-f897-4119-b463-977e65479071",
   "metadata": {},
   "outputs": [],
   "source": [
    "def select_best_parents(pop, num_parents, fitness):\n",
    "    parents = torch.zeros(num_parents, pop.shape[1])\n",
    "    topk_fitness =  torch.topk(fitness, num_parents).indices\n",
    "    for i, parent_n in enumerate(topk_fitness):\n",
    "        parents[i] = pop[parent_n]\n",
    "    return parents"
   ]
  },
  {
   "cell_type": "code",
   "execution_count": 39,
   "id": "58481c68-418d-46dc-b12c-1b119bad0032",
   "metadata": {},
   "outputs": [],
   "source": [
    "def mate(parents, offspring_size):\n",
    "    offspring = torch.zeros(offspring_size)\n",
    "    crossover_point = np.random.randint(0, offspring_size[1], size=1)[0]\n",
    "    for k in range(offspring_size[0]):\n",
    "        parent1_idx = k%parents.shape[0]\n",
    "        parent2_idx = (k+1)%parents.shape[0]\n",
    "        offspring[k, 0:crossover_point] = parents[parent1_idx, 0:crossover_point]\n",
    "        offspring[k, crossover_point:] = parents[parent2_idx, crossover_point:]\n",
    "    return offspring"
   ]
  },
  {
   "cell_type": "code",
   "execution_count": 61,
   "id": "cea8e0a0-e21e-4035-accb-05dc95f8141b",
   "metadata": {},
   "outputs": [],
   "source": [
    "def mutate(offspring, percent_mutate=0.3):\n",
    "    for k in range(offspring.shape[0]):\n",
    "#         rand_param = np.random.randint(0, offspring.shape[1], size=1)\n",
    "        indices = torch.from_numpy(np.random.choice(offspring.shape[1], int(offspring.shape[1]*percent_mutate), replace=False))\n",
    "        offspring[k, indices] += torch.zeros(indices.shape[0]).uniform_(-6, 6)"
   ]
  },
  {
   "cell_type": "markdown",
   "id": "33ddd7eb-a676-4959-9bc0-8a95e7890c01",
   "metadata": {},
   "source": [
    "## Initialize the initial population"
   ]
  },
  {
   "cell_type": "code",
   "execution_count": 62,
   "id": "80afe5b6-3977-4481-b9a1-7e8474f32d28",
   "metadata": {},
   "outputs": [],
   "source": [
    "params_shape = nn.utils.parameters_to_vector(model.parameters()).shape"
   ]
  },
  {
   "cell_type": "code",
   "execution_count": 63,
   "id": "7a1abcca-ec27-41c5-94c0-30fd8969f52f",
   "metadata": {},
   "outputs": [],
   "source": [
    "POPULATION_SIZE = 30\n",
    "NUM_GENERATIONS = 1500\n",
    "NUM_PARENTS=5"
   ]
  },
  {
   "cell_type": "code",
   "execution_count": 64,
   "id": "b43a765e-d0b3-4fdd-b23e-856fd1fb5690",
   "metadata": {},
   "outputs": [],
   "source": [
    "initial_population = nn.init.uniform_(torch.empty(POPULATION_SIZE, *params_shape))"
   ]
  },
  {
   "cell_type": "code",
   "execution_count": 65,
   "id": "d7d37548-2bcc-4e53-99d9-0f4ed41995a1",
   "metadata": {
    "scrolled": true,
    "tags": []
   },
   "outputs": [
    {
     "name": "stdout",
     "output_type": "stream",
     "text": [
      "Generation: 0, Best Solution: tensor([0.3041, 0.7955, 0.6211,  ..., 0.0244, 0.3350, 0.7049]), Fitness: 0.42459315061569214\n",
      "Generation: 50, Best Solution: tensor([ 5.3387, -7.3858,  7.0650,  ...,  1.5879, -1.8055,  3.5905]), Fitness: 0.45253023505210876\n",
      "Generation: 100, Best Solution: tensor([15.2160, -9.0565,  6.3465,  ...,  1.6760,  2.3495,  5.4337]), Fitness: 0.46289873123168945\n",
      "Generation: 150, Best Solution: tensor([ 12.5285,  -3.7090,   4.8922,  ...,  -1.6052,   8.4503, -10.8060]), Fitness: 0.46623700857162476\n",
      "Generation: 200, Best Solution: tensor([12.5285, -3.7090,  4.8922,  ..., -1.3587,  4.3301, -5.8868]), Fitness: 0.4737534821033478\n",
      "Generation: 250, Best Solution: tensor([12.5285, -3.7090,  4.8922,  ..., -1.3587,  4.3301, -5.8868]), Fitness: 0.4737534821033478\n",
      "Generation: 300, Best Solution: tensor([12.5285, -3.7090,  4.8922,  ..., -1.3587,  4.3301, -5.8868]), Fitness: 0.4737534821033478\n",
      "Generation: 350, Best Solution: tensor([ 25.0961,  -5.1450,   8.8294,  ...,  -6.0810,  -2.6839, -12.3823]), Fitness: 0.4860413372516632\n",
      "Generation: 400, Best Solution: tensor([21.7145, -8.6482, 13.3054,  ..., -9.9983, -6.7309, -8.0659]), Fitness: 0.48659005761146545\n",
      "Generation: 450, Best Solution: tensor([21.3031,  5.1548, 12.7612,  ..., -5.4679, -1.4454, -1.8823]), Fitness: 0.4968743324279785\n",
      "Generation: 500, Best Solution: tensor([30.1850, -3.9613,  8.8294,  ..., -6.6535, -4.0782,  3.0234]), Fitness: 0.49802258610725403\n",
      "Generation: 550, Best Solution: tensor([31.3089,  1.4340, 15.2153,  ..., -5.4679,  2.2206, -1.8823]), Fitness: 0.5022788047790527\n",
      "Generation: 600, Best Solution: tensor([31.3089,  1.4340, 15.2153,  ..., -5.4679,  2.2206, -1.8823]), Fitness: 0.5022788047790527\n",
      "Generation: 650, Best Solution: tensor([27.0394,  1.3104, 24.1720,  ..., -2.1843, -1.8449, -1.8823]), Fitness: 0.5082012414932251\n",
      "Generation: 700, Best Solution: tensor([29.8425,  8.8187, 25.2231,  ..., -2.1843, -0.8535, -1.8823]), Fitness: 0.512837290763855\n",
      "Generation: 750, Best Solution: tensor([29.8425,  8.8187, 25.2231,  ..., -2.1843, -0.8535, -1.8823]), Fitness: 0.512837290763855\n",
      "Generation: 800, Best Solution: tensor([29.3068,  8.0468, 23.8177,  ..., -3.6040, -0.8535, -1.8823]), Fitness: 0.5148794054985046\n",
      "Generation: 850, Best Solution: tensor([26.5507,  8.0468, 22.6866,  ..., -1.2904,  2.1072, -4.5300]), Fitness: 0.5173515677452087\n",
      "Generation: 900, Best Solution: tensor([26.5507,  8.0468, 22.6866,  ..., -1.2904,  2.1072, -4.5300]), Fitness: 0.5173515677452087\n",
      "Generation: 950, Best Solution: tensor([31.3772,  7.3039, 19.9960,  ..., -9.5850, -0.8535, -4.5400]), Fitness: 0.5175586342811584\n",
      "Generation: 1000, Best Solution: tensor([31.1201,  7.4981, 14.9290,  ..., -3.7281,  2.1072, -4.6003]), Fitness: 0.5185965895652771\n",
      "Generation: 1050, Best Solution: tensor([31.3772,  8.7866, 22.8952,  ..., -0.6769,  4.9539, -9.7173]), Fitness: 0.519847571849823\n",
      "Generation: 1100, Best Solution: tensor([31.3772,  8.7866, 20.9714,  ..., -3.7281, -2.7973, -4.6003]), Fitness: 0.5206848978996277\n",
      "Generation: 1150, Best Solution: tensor([28.9829, 15.7127, 16.9476,  ..., -9.2937,  8.0840, -7.2762]), Fitness: 0.5213147401809692\n",
      "Generation: 1200, Best Solution: tensor([ 30.7112,   2.6317,  22.8952,  ...,  -0.6769,   7.2245, -15.2327]), Fitness: 0.5234250426292419\n",
      "Generation: 1250, Best Solution: tensor([ 30.7112,   2.6317,  22.8952,  ...,  -0.6769,   7.2245, -15.2327]), Fitness: 0.5234250426292419\n",
      "Generation: 1300, Best Solution: tensor([ 30.7112,   2.6317,  22.8952,  ...,  -0.6769,   7.2245, -15.2327]), Fitness: 0.5234250426292419\n",
      "Generation: 1350, Best Solution: tensor([ 30.7112,   2.6317,  22.8952,  ...,  -0.6769,   7.2245, -15.2327]), Fitness: 0.5234250426292419\n",
      "Generation: 1400, Best Solution: tensor([ 30.7112,   2.6317,  22.8952,  ...,  -0.6769,   7.2245, -15.2327]), Fitness: 0.5234250426292419\n",
      "Generation: 1450, Best Solution: tensor([ 30.7112,   2.6317,  22.8952,  ...,  -0.6769,   7.2245, -15.2327]), Fitness: 0.5234250426292419\n",
      "Generation: 1500, Best Solution: tensor([ 30.7112,   2.6317,  22.8952,  ...,  -0.6769,   7.2245, -15.2327]), Fitness: 0.5234250426292419\n"
     ]
    }
   ],
   "source": [
    "population = initial_population\n",
    "for generation in range(NUM_GENERATIONS + 1):\n",
    "    fitness = calc_population_fitness(population)\n",
    "    best_parents = select_best_parents(population, NUM_PARENTS, fitness)\n",
    "    offspring = mate(best_parents, (initial_population.shape[0] - best_parents.shape[0], initial_population.shape[1]))\n",
    "    mutate(offspring, percent_mutate=0.6)\n",
    "    population = torch.zeros(initial_population.shape)\n",
    "    population[0:best_parents.shape[0]] = best_parents\n",
    "    population[best_parents.shape[0]:] = offspring\n",
    "    if generation % 50 == 0:\n",
    "        print(f\"Generation: {generation}, Best Solution: {best_parents[0]}, Fitness: {fitness_func(best_parents[0])}\")"
   ]
  },
  {
   "cell_type": "code",
   "execution_count": 66,
   "id": "064e6e54",
   "metadata": {},
   "outputs": [],
   "source": [
    "solution = best_parents[0]\n",
    "nn.utils.vector_to_parameters(solution, model.parameters())"
   ]
  },
  {
   "cell_type": "code",
   "execution_count": 67,
   "id": "1fb652bd",
   "metadata": {},
   "outputs": [
    {
     "name": "stdout",
     "output_type": "stream",
     "text": [
      "Accuracy: \n",
      "54.36508059501648\n"
     ]
    }
   ],
   "source": [
    "print(\"Accuracy: \")\n",
    "print(((torch.argmax(model(X_test), dim=1) == y_test).sum() / y_test.shape[0]).item() * 100)"
   ]
  },
  {
   "cell_type": "code",
   "execution_count": null,
   "id": "d83ac8e2",
   "metadata": {},
   "outputs": [],
   "source": []
  },
  {
   "cell_type": "markdown",
   "id": "95870dbd-d5ae-46af-9ce0-e46cbafe0477",
   "metadata": {},
   "source": [
    "It is at least learning something"
   ]
  }
 ],
 "metadata": {
  "kernelspec": {
   "display_name": "Python 3 (ipykernel)",
   "language": "python",
   "name": "python3"
  },
  "language_info": {
   "codemirror_mode": {
    "name": "ipython",
    "version": 3
   },
   "file_extension": ".py",
   "mimetype": "text/x-python",
   "name": "python",
   "nbconvert_exporter": "python",
   "pygments_lexer": "ipython3",
   "version": "3.9.4"
  }
 },
 "nbformat": 4,
 "nbformat_minor": 5
}
