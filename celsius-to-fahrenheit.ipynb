{
 "cells": [
  {
   "cell_type": "markdown",
   "id": "cee8e985-2146-43f7-8f4b-dd28d7460f11",
   "metadata": {},
   "source": [
    "# Simple neuroevolution\n",
    "\n",
    "Neuroevolution is a technique to train Deep Learning models. It can acheive results competitive with models trained using gradient-descent based DL algorithms. \n",
    "\n",
    "This article will focus on optimizing a simple linear function, with 1 weight and 1 bias (a total of 2 parameters). The algorithm will train on a simple Celsius to Fahrenheit dataset"
   ]
  },
  {
   "cell_type": "code",
   "execution_count": 25,
   "id": "577abc25-64b5-4423-8c1a-fe59f4454da8",
   "metadata": {},
   "outputs": [],
   "source": [
    "import numpy as np"
   ]
  },
  {
   "cell_type": "markdown",
   "id": "b7b21775-dffb-43d0-bde9-eb0f6b79d512",
   "metadata": {},
   "source": [
    "Our goal is to optimize the following function through an evolutionary method\n",
    "\n",
    "$$\n",
    "y = w_1x + w_2\n",
    "$$\n",
    "\n",
    "Find $w_1$ and $w_2$"
   ]
  },
  {
   "cell_type": "markdown",
   "id": "3e32dfaa-befa-4fa0-a204-6ec8db65bc18",
   "metadata": {},
   "source": [
    "## Neural Network\n",
    "\n",
    "We start by implementing a `Linear` layer class. All this layer does is replicate a linear function. Note there is no `backward` function, for we have no need of derivatives in genetic evolution"
   ]
  },
  {
   "cell_type": "code",
   "execution_count": 3,
   "id": "6bee4fb8-aa0f-494e-8d65-8982a09f6415",
   "metadata": {},
   "outputs": [],
   "source": [
    "class Linear():\n",
    "    def __init__(self, n_in, n_out):\n",
    "        limit = 1 / np.sqrt(n_in)\n",
    "        self.W = np.random.uniform(-limit, limit, (n_in, n_out))\n",
    "        self.b = np.random.rand(1, n_out)  # Biases\n",
    "\n",
    "    def forward(self, x):\n",
    "        return np.dot(x, self.W) + self.b\n",
    "    \n",
    "    def apply_weights(self, w):\n",
    "        # This method is not optimized for more than 1 input. \n",
    "        self.W = np.array(w[0]).reshape(-1, 1)\n",
    "        self.b = np.array(w[1]).reshape(-1, 1)\n",
    "        \n",
    "    def __call__(self, x):\n",
    "        return self.forward(x)"
   ]
  },
  {
   "cell_type": "markdown",
   "id": "bc732b57-e389-4b43-ac6e-5741f4f24a23",
   "metadata": {},
   "source": [
    "## Data\n",
    "\n",
    "Initialize the data and reshape it so that it can fit into the neural network. `x_train` is celsius values and `y_train` is fahrenheit values."
   ]
  },
  {
   "cell_type": "code",
   "execution_count": 4,
   "id": "5a4438c3-b22a-40a8-a666-df5bc95294d0",
   "metadata": {},
   "outputs": [],
   "source": [
    "x_train = np.array([-40, -10, 0, 8, 15, 22, 38], dtype=np.float32)  # Celsius\n",
    "y_train = np.array([-40, 14, 32, 46, 59, 72, 100], dtype=np.float32)  # Fahrenheit\n",
    "x_train = x_train.reshape(-1, 1)\n",
    "y_train = y_train.reshape(-1, 1)"
   ]
  },
  {
   "cell_type": "markdown",
   "id": "6d1565a1-a7c0-4b13-a199-d898798dfaee",
   "metadata": {},
   "source": [
    "## Model\n",
    "\n",
    "In this section, the model is initialized with 1 input and 1 output. The loss function is defined. Note that the loss function is just mean_squared error, which is a good loss function for regression tasks"
   ]
  },
  {
   "cell_type": "code",
   "execution_count": 6,
   "id": "6dc57751-23a5-4a01-a26e-f143d6bbd166",
   "metadata": {},
   "outputs": [],
   "source": [
    "model = Linear(1, 1)"
   ]
  },
  {
   "cell_type": "code",
   "execution_count": 7,
   "id": "e7fd45dd-de05-45a4-abf1-9cf00da57bdb",
   "metadata": {},
   "outputs": [],
   "source": [
    "sample_weights = np.array([9/5, 32]) # Our final weights should be very close to this."
   ]
  },
  {
   "cell_type": "markdown",
   "id": "275ed91e-4d8c-4777-acee-b62d0d128813",
   "metadata": {},
   "source": [
    "> Note how we take the reciprocal of MSE here. This is because our evolutionary algorithm maximizes the loss function rather than minimizing it. One could configure the algorithm to minimize the loss function, if they wanted."
   ]
  },
  {
   "cell_type": "code",
   "execution_count": 8,
   "id": "46ec038c-9155-4f67-b0db-fbee0585ea53",
   "metadata": {},
   "outputs": [],
   "source": [
    "def loss(y_true, y_pred):\n",
    "    return 1/np.mean(np.power(y_true - y_pred, 2));"
   ]
  },
  {
   "cell_type": "code",
   "execution_count": 26,
   "id": "d3ec8aff-6412-4b9c-9920-c0ed5de91fc2",
   "metadata": {},
   "outputs": [
    {
     "data": {
      "text/plain": [
       "15.808014533475669"
      ]
     },
     "execution_count": 26,
     "metadata": {},
     "output_type": "execute_result"
    }
   ],
   "source": [
    "loss(model(x_train), y_train)"
   ]
  },
  {
   "cell_type": "markdown",
   "id": "23b310c0-cfe1-4a50-809a-560e9918a55a",
   "metadata": {},
   "source": [
    "## Evolutionary Algorithm\n",
    "\n",
    "Now we come to the good parts.\n",
    "\n",
    "The first function is the fitness function. This determines how fit each set of paramters is, by using the loss function to calculate the score of a certain set of paramters"
   ]
  },
  {
   "cell_type": "code",
   "execution_count": 10,
   "id": "53202e65-6576-44eb-806f-56b3e8434cc8",
   "metadata": {},
   "outputs": [],
   "source": [
    "def fitness_func(solution):\n",
    "    model.apply_weights(solution)\n",
    "    return loss(model(x_train), y_train)"
   ]
  },
  {
   "cell_type": "markdown",
   "id": "a951b401-ab4b-4145-bb24-2404c5dc01a3",
   "metadata": {},
   "source": [
    "The second function calculates the fitness of an entire population of paramters. The results of this will be used to select the mating pool"
   ]
  },
  {
   "cell_type": "code",
   "execution_count": 11,
   "id": "00ec196d-585a-4c72-b43f-59e0dce392d4",
   "metadata": {},
   "outputs": [],
   "source": [
    "def calc_population_fitness(pop):\n",
    "    fitness = np.zeros(pop.shape[0])\n",
    "    for i, params in enumerate(pop):\n",
    "        fitness[i] = fitness_func(params)\n",
    "    return fitness"
   ]
  },
  {
   "cell_type": "markdown",
   "id": "8af922e6-5bcc-4639-b9d9-4840c80ae498",
   "metadata": {},
   "source": [
    "Selecting the best \"parents\" is very simple. All this function does is take the top 5 paramters with the highest fitness scores. These parents will constitute the mating pool"
   ]
  },
  {
   "cell_type": "code",
   "execution_count": 12,
   "id": "2eef0c4b-d030-4919-8e62-4a5b33d3ae54",
   "metadata": {},
   "outputs": [],
   "source": [
    "def select_best_parents(pop, num_parents, fitness):\n",
    "    parents = np.zeros((num_parents, pop.shape[1]))\n",
    "    topk_fitness =  np.argsort(fitness)[-num_parents:]\n",
    "    for parent_n in range(num_parents):\n",
    "        solution = pop[topk_fitness[parent_n]]\n",
    "        parents[parent_n] = solution\n",
    "    return parents"
   ]
  },
  {
   "cell_type": "markdown",
   "id": "6302ebd5-7a36-4ada-b8ac-cf1788eb4b4e",
   "metadata": {},
   "source": [
    "This function is the \"mating\" function. Basically, this function takes 2 parents from the mating pool and combines their genes to create an offspring.\n",
    "\n",
    "Say you have 2 parents `parent_1` and `parent_2`. The offspring will be a combination of these parents. In other words, the offspring will be `offspring = [parent_1[0], parent_2[1]]`. The offspring takes the first parameter of `parent_1` and the second parameter of `parent_2`."
   ]
  },
  {
   "cell_type": "code",
   "execution_count": 13,
   "id": "88418ff2-882c-44bf-ad9b-ec2a7c8ae939",
   "metadata": {},
   "outputs": [],
   "source": [
    "def mate(parents, offspring_size):\n",
    "    offspring = np.zeros(offspring_size)\n",
    "    crossover_point = np.uint8(offspring_size[1]/2)\n",
    "    for k in range(offspring_size[0]):\n",
    "        parent1_idx = k%parents.shape[0]\n",
    "        parent2_idx = (k+1)%parents.shape[0]\n",
    "        offspring[k, 0:crossover_point] = parents[parent1_idx, 0:crossover_point]\n",
    "        offspring[k, crossover_point:] = parents[parent2_idx, crossover_point:]\n",
    "    return offspring"
   ]
  },
  {
   "cell_type": "markdown",
   "id": "f0e6f002-3368-4959-835e-2546f9595a49",
   "metadata": {},
   "source": [
    "In this program, we have 95 offspring, as will be seen later. Many of these offspring are going to be the same, and if we keep iterating through generations, the offspring will always have the same numbers. So, we create a mutation function that mutates the offspring slightly. After all, mutation is one of the driving factors of evolution. Mutating the offspring each generation will ensure that the \"species\" evolves with each generation.\n",
    "\n",
    "Some offspring will have good mutations and others will have bad mutations. Our algorithm weeds out the offspring with bad mutations and keeps the one with good mutations (i.e higher fitness scoes)."
   ]
  },
  {
   "cell_type": "code",
   "execution_count": 17,
   "id": "c5d25bea-4e6f-418b-a0fc-8e07b216922e",
   "metadata": {},
   "outputs": [],
   "source": [
    "def mutate(offspring):\n",
    "    for k in range(offspring.shape[0]):\n",
    "        rand_number = np.random.uniform(-1.0, 1.0, 1)\n",
    "        rand_param = np.random.randint(0, offspring.shape[1], size=1)\n",
    "        offspring[k, rand_param] += rand_number"
   ]
  },
  {
   "cell_type": "markdown",
   "id": "9a090936-f7b3-4270-81a3-98538f213012",
   "metadata": {},
   "source": [
    "Initialize the initial population of 100 sets of parameters, or 100 neural networks"
   ]
  },
  {
   "cell_type": "code",
   "execution_count": 18,
   "id": "3f308ed7-1018-4333-802c-31276c8ab863",
   "metadata": {},
   "outputs": [],
   "source": [
    "initial_population = np.random.randint(-10, 10, size=[100, 2])"
   ]
  },
  {
   "cell_type": "markdown",
   "id": "3ecb595d-a19a-449c-bab3-b4c23cd76d23",
   "metadata": {},
   "source": [
    "We will evolve our paremeters for 100 generations and our mating pool will consist of 5 parents"
   ]
  },
  {
   "cell_type": "code",
   "execution_count": 19,
   "id": "f4683845-dfd5-4cd1-9a7d-1ea9c543a2a3",
   "metadata": {},
   "outputs": [],
   "source": [
    "num_generations = 100\n",
    "NUM_PARENTS=5"
   ]
  },
  {
   "cell_type": "markdown",
   "id": "46c7e87f-4b9a-4e69-adce-00884a345b99",
   "metadata": {},
   "source": [
    "Now, we set all the functions into action. This is the \"evolution\".\n",
    "\n",
    "1. Start by calculating the fitness of the population\n",
    "2. Pick the mating pool from that population\n",
    "3. Mate those parents to generate the offspring\n",
    "4. Mutate the offspring.\n",
    "5. Combine the parents and offspring to create a new population. *In this case, our population is 5 parents and 95 offspring each generation, so we will always have a population of 100*\n",
    "6. Move to the next generation with the population as the new population created in the previous step"
   ]
  },
  {
   "cell_type": "code",
   "execution_count": 20,
   "id": "d83870c5-79ef-43b9-b3c3-970ab1b81bfe",
   "metadata": {},
   "outputs": [
    {
     "name": "stdout",
     "output_type": "stream",
     "text": [
      "Generation: 0, Best Solution: [3. 8.], Loss: 0.0009002057613168725\n",
      "Generation: 10, Best Solution: [ 2.         16.75235077], Loss: 0.004444533166596266\n",
      "Generation: 20, Best Solution: [ 1.87469608 24.92770189], Loss: 0.020997877055740882\n",
      "Generation: 30, Best Solution: [ 1.8018842  31.86814524], Loss: 13.210000216192187\n",
      "Generation: 40, Best Solution: [ 1.8018842  31.92457969], Loss: 13.994822568506123\n",
      "Generation: 50, Best Solution: [ 1.8018842  31.93072679], Loss: 14.010060002933049\n",
      "Generation: 60, Best Solution: [ 1.79972363 31.93235495], Loss: 15.41369088084888\n",
      "Generation: 70, Best Solution: [ 1.79856772 31.94339828], Loss: 15.800243319191257\n",
      "Generation: 80, Best Solution: [ 1.79856772 31.95238306], Loss: 15.807957064621492\n",
      "Generation: 90, Best Solution: [ 1.79856772 31.95234129], Loss: 15.808014533475669\n"
     ]
    }
   ],
   "source": [
    "population = initial_population\n",
    "for generation in range(num_generations + 1):\n",
    "    fitness = calc_population_fitness(population)\n",
    "    best_parents = select_best_parents(population, NUM_PARENTS, fitness)\n",
    "    offspring = mate(best_parents, (initial_population.shape[0] - best_parents.shape[0], initial_population.shape[1]))\n",
    "    mutate(offspring)\n",
    "    population = np.zeros(initial_population.shape)\n",
    "    population[0:best_parents.shape[0]] = best_parents\n",
    "    population[best_parents.shape[0]:] = offspring\n",
    "    if generation % 10 == 0:\n",
    "        print(f\"Generation: {generation}, Best Solution: {best_parents[0]}, Loss: {fitness_func(best_parents[0])}\")"
   ]
  },
  {
   "cell_type": "markdown",
   "id": "e4a30cd1-c444-4b2a-9373-5d224c8f4245",
   "metadata": {},
   "source": [
    "Remember earlier I mentioned that our final weights should be close to [9/5, 32]. Note that the solution at the end of generation 100 is very close to our desired weights. That means that genetic evolution successfully optimized our simple neural network.\n",
    "\n",
    "Now, we select the best set of weights from each population. If we wanted, we could save the best weights from each generation and select the weights from there. But in this case, we select the best weights from the last generation, because the last generation has the best weights"
   ]
  },
  {
   "cell_type": "code",
   "execution_count": 27,
   "id": "9fbb46c1-30b2-49e0-90d3-fe53ca99a27a",
   "metadata": {},
   "outputs": [],
   "source": [
    "best_solution = select_best_parents(population, 1, fitness)[0]\n",
    "model.apply_weights(best_solution) # Set the model weights as the best solution."
   ]
  },
  {
   "cell_type": "markdown",
   "id": "bfc0d3ad-1bb8-4b0f-896a-e7edba79f426",
   "metadata": {},
   "source": [
    "## Plot the results\n",
    "\n",
    "Compare the predicted values with the real values"
   ]
  },
  {
   "cell_type": "code",
   "execution_count": 28,
   "id": "3ee3871b-3e35-4a5f-ae5f-e39edaca74f9",
   "metadata": {},
   "outputs": [],
   "source": [
    "import matplotlib.pyplot as plt"
   ]
  },
  {
   "cell_type": "code",
   "execution_count": 30,
   "id": "005026f2-51d3-44a5-a3fd-de6e1ca47cee",
   "metadata": {},
   "outputs": [
    {
     "data": {
      "text/plain": [
       "Text(0.5, 1.0, 'Predicted vs Real')"
      ]
     },
     "execution_count": 30,
     "metadata": {},
     "output_type": "execute_result"
    },
    {
     "data": {
      "image/png": "[encoded data removed]",
      "text/plain": [
       "<Figure size 432x288 with 1 Axes>"
      ]
     },
     "metadata": {
      "needs_background": "light"
     },
     "output_type": "display_data"
    }
   ],
   "source": [
    "plt.plot(x_train, model(x_train), '--') # Dashed line is the prediction line\n",
    "plt.plot(x_train, y_train, '*') # The stars is our actual data.\n",
    "plt.title(\"Predicted vs Real\")"
   ]
  },
  {
   "cell_type": "markdown",
   "id": "6f9d0693-ecd6-4c37-9bce-4b0ec55f8619",
   "metadata": {},
   "source": [
    "Notice how the lines are basically overlaid on each other. This means that our parameters are highly accurate. \n",
    "\n",
    "Thank you for reading this tutorial. Check out my other tutorials."
   ]
  }
 ],
 "metadata": {
  "kernelspec": {
   "display_name": "Python 3 (ipykernel)",
   "language": "python",
   "name": "python3"
  },
  "language_info": {
   "codemirror_mode": {
    "name": "ipython",
    "version": 3
   },
   "file_extension": ".py",
   "mimetype": "text/x-python",
   "name": "python",
   "nbconvert_exporter": "python",
   "pygments_lexer": "ipython3",
   "version": "3.9.4"
  }
 },
 "nbformat": 4,
 "nbformat_minor": 5
}
